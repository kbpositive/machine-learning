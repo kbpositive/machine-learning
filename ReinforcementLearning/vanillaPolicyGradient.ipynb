{
 "cells": [
  {
   "cell_type": "code",
   "execution_count": 407,
   "metadata": {},
   "outputs": [],
   "source": [
    "import math\n",
    "import random\n",
    "import matplotlib.pyplot as plt"
   ]
  },
  {
   "cell_type": "code",
   "execution_count": 408,
   "metadata": {},
   "outputs": [],
   "source": [
    "def transpose(x):\n",
    "    return [*map(list,zip(*x))]\n",
    "\n",
    "def tensor(x,y):\n",
    "    return [[row*col for col in y] for row in x]\n",
    "\n",
    "def vecPlus(x,y):\n",
    "    return [a+b for a,b in zip(x,y)]\n",
    "\n",
    "def vecMin(x,y):\n",
    "    return [a-b for a,b in zip(x,y)]\n",
    "    \n",
    "def vecProd(x,y):\n",
    "    return [a*b for a,b in zip(x,y)]\n",
    "    \n",
    "def vecDiv(x,y):\n",
    "    return [a/b for a,b in zip(x,y)]"
   ]
  },
  {
   "cell_type": "code",
   "execution_count": 558,
   "metadata": {},
   "outputs": [],
   "source": [
    "def sigmoid(x):\n",
    "    return [math.exp(y)/(math.exp(y)+1) for y in x]\n",
    "\n",
    "def sigmoidDiff(x):\n",
    "    return [math.exp(y)/(math.exp(y)+1)**2 for y in x]\n",
    "\n",
    "def err(actual, pred):\n",
    "    return vecProd(vecMin(sigmoid(pred),actual),[math.log(p) for p in sigmoid(pred)])\n",
    "\n",
    "def errDiff(actual, pred):\n",
    "    e_s = vecDiv(vecProd(vecMin(sigmoid(pred),actual),sigmoid(pred)),sigmoid(pred))\n",
    "    s_o = sigmoidDiff(pred)\n",
    "    e_o = vecProd(e_s,s_o)\n",
    "    return tensor(inp,e_o)\n",
    "\n",
    "def feed(inputs, weights):\n",
    "    return [sum(vecProd(inputs,row)) for row in transpose(weights)]\n",
    "\n",
    "def target(x):\n",
    "    y = random.choices(range(x), k=1)[0]\n",
    "    return [(0.55 if (i == y) else 0.45) for i in range(x)]\n",
    "\n",
    "def optimize(weights,targets,inputs,learningRate):\n",
    "    return [[a-b*learningRate for a,b in zip(w,j)] for w,j in zip(weights,errDiff(targets,feed(inputs,weights)))]\n",
    "\n",
    "inp = [1.0 for _ in range(4)]\n",
    "outputs = 4\n",
    "targ = target(outputs)\n",
    "wgt = [[(a+b)*0.01 for b in range(outputs)] for a in range(len(inp))]\n",
    "lr = 0.01"
   ]
  },
  {
   "cell_type": "code",
   "execution_count": 559,
   "metadata": {},
   "outputs": [
    {
     "name": "stdout",
     "output_type": "stream",
     "text": [
      "[0.45, 0.45, 0.55, 0.45]\n",
      "[-0.0003703604008663995, -0.0004261701492730208, 6.5880913812594e-05, -0.0005378353308225523]\n"
     ]
    },
    {
     "data": {
      "image/png": "[encoded data removed]",
      "text/plain": [
       "<Figure size 432x288 with 1 Axes>"
      ]
     },
     "metadata": {
      "needs_background": "light"
     },
     "output_type": "display_data"
    }
   ],
   "source": [
    "for _ in range(2000):\n",
    "    wgt = optimize(wgt,targ,inp,lr)\n",
    "results = transpose([sigmoid(feed(inp,wgt)),targ])\n",
    "plt.plot(results)\n",
    "print(targ)\n",
    "print(err(targ,feed(inp,wgt)))"
   ]
  },
  {
   "cell_type": "code",
   "execution_count": null,
   "metadata": {},
   "outputs": [],
   "source": []
  }
 ],
 "metadata": {
  "interpreter": {
   "hash": "0adcc2737ebf6a4a119f135174df96668767fca1ef1112612db5ecadf2b6d608"
  },
  "kernelspec": {
   "display_name": "Python 3.8.6 64-bit",
   "name": "python3"
  },
  "language_info": {
   "codemirror_mode": {
    "name": "ipython",
    "version": 3
   },
   "file_extension": ".py",
   "mimetype": "text/x-python",
   "name": "python",
   "nbconvert_exporter": "python",
   "pygments_lexer": "ipython3",
   "version": "3.8.6"
  },
  "orig_nbformat": 4
 },
 "nbformat": 4,
 "nbformat_minor": 2
}

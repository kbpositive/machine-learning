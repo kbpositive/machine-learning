{
 "cells": [
  {
   "cell_type": "code",
   "execution_count": 1,
   "metadata": {},
   "outputs": [],
   "source": [
    "import math\n",
    "import random\n",
    "import matplotlib.pyplot as plt"
   ]
  },
  {
   "cell_type": "code",
   "execution_count": 2,
   "metadata": {},
   "outputs": [],
   "source": [
    "def transpose(x):\n",
    "    return [*map(list,zip(*x))]\n",
    "\n",
    "def tensor(x,y):\n",
    "    return [[row*col for col in y] for row in x]\n",
    "\n",
    "def vecPlus(x,y):\n",
    "    return [a+b for a,b in zip(x,y)]\n",
    "\n",
    "def vecMin(x,y):\n",
    "    return [a-b for a,b in zip(x,y)]\n",
    "    \n",
    "def vecProd(x,y):\n",
    "    return [a*b for a,b in zip(x,y)]\n",
    "    \n",
    "def vecDiv(x,y):\n",
    "    return [a/b for a,b in zip(x,y)]"
   ]
  },
  {
   "cell_type": "code",
   "execution_count": 277,
   "metadata": {},
   "outputs": [],
   "source": [
    "def sigmoid(x):\n",
    "    return [math.exp(y)/(math.exp(y)+1) for y in x]\n",
    "\n",
    "def sigmoidDiff(x):\n",
    "    return [math.exp(y)/(math.exp(y)+1)**2 for y in x]\n",
    "\n",
    "def feed(inputs, weights):\n",
    "    return [sum(vecProd(inputs,row)) for row in transpose(weights)]\n",
    "\n",
    "def target(x):\n",
    "    y = random.choices(range(x), k=1)[0]\n",
    "    return [(1 if (i == y) else 0) for i in range(x)]\n",
    "\n",
    "def err(actual, pred):\n",
    "    return vecProd(actual,[math.log(p) for p in pred])\n",
    "\n",
    "def errDiff(actual, pred):\n",
    "    e_s = vecDiv(vecProd(actual,sigmoid(pred)),sigmoid(pred))\n",
    "    s_o = sigmoidDiff(pred)\n",
    "    e_o = vecProd(e_s,s_o)\n",
    "    return tensor(inp,e_o)\n",
    "\n",
    "def optimizer():\n",
    "    return\n",
    "\n",
    "inp = [1.0 for _ in range(4)]\n",
    "outputs = 4\n",
    "targ = target(outputs)\n",
    "wgt = [[(a+b)*0.01 for b in range(outputs)] for a in range(len(inp))]\n",
    "lr = 0.01"
   ]
  },
  {
   "cell_type": "code",
   "execution_count": 280,
   "metadata": {},
   "outputs": [
    {
     "name": "stdout",
     "output_type": "stream",
     "text": [
      "[0, 0, 1, 0]\n"
     ]
    },
    {
     "data": {
      "image/png": "[encoded data removed]",
      "text/plain": [
       "<Figure size 432x288 with 1 Axes>"
      ]
     },
     "metadata": {
      "needs_background": "light"
     },
     "output_type": "display_data"
    }
   ],
   "source": [
    "for _ in range(200):\n",
    "    wgt = [[u for u in [a+b*lr for a,b in zip(w,j)]] for w,j in zip(wgt,errDiff(targ,feed(inp,wgt)))]\n",
    "results = transpose([sigmoid(feed(inp,wgt)),targ])\n",
    "plt.plot(results)\n",
    "print(targ)"
   ]
  },
  {
   "cell_type": "code",
   "execution_count": 239,
   "metadata": {},
   "outputs": [
    {
     "data": {
      "text/plain": [
       "[[0.0, 0.01, 0.02, -1.0800689447254057],\n",
       " [0.01, 0.02, 0.03, -1.0700689447254064],\n",
       " [0.02, 0.03, 0.04, -1.060068944725407],\n",
       " [0.03, 0.04, 0.05, -1.0500689447254077]]"
      ]
     },
     "execution_count": 239,
     "metadata": {},
     "output_type": "execute_result"
    }
   ],
   "source": [
    "wgt"
   ]
  }
 ],
 "metadata": {
  "interpreter": {
   "hash": "0adcc2737ebf6a4a119f135174df96668767fca1ef1112612db5ecadf2b6d608"
  },
  "kernelspec": {
   "display_name": "Python 3.8.6 64-bit",
   "name": "python3"
  },
  "language_info": {
   "codemirror_mode": {
    "name": "ipython",
    "version": 3
   },
   "file_extension": ".py",
   "mimetype": "text/x-python",
   "name": "python",
   "nbconvert_exporter": "python",
   "pygments_lexer": "ipython3",
   "version": "3.8.6"
  },
  "orig_nbformat": 4
 },
 "nbformat": 4,
 "nbformat_minor": 2
}

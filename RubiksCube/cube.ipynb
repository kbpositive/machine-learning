{
 "cells": [
  {
   "cell_type": "markdown",
   "metadata": {},
   "source": [
    "Let's solve a rubik's cube."
   ]
  },
  {
   "cell_type": "code",
   "execution_count": 391,
   "metadata": {},
   "outputs": [],
   "source": [
    "import numpy as np\n",
    "import torch\n",
    "import matplotlib.pyplot as plt\n",
    "\n",
    "class Cube:\n",
    "    def __init__(self):\n",
    "        self.cube = np.zeros((5,5,5))\n",
    "        self.cube[0,1:4,1:4] += 2\n",
    "        self.cube[-1,1:4,1:4] += 1\n",
    "        self.cube[1:4,1:4,0] += 3\n",
    "        self.cube[1:4,1:4,-1] += 4\n",
    "        self.cube[1:4,0,1:4] += 5\n",
    "        self.cube[1:4,-1,1:4] += 6\n",
    "\n",
    "        self.id = 0\n",
    "\n",
    "        self.moves = {\n",
    "            'n':self.n,\n",
    "            'f':self.f,\n",
    "            'F':self.F,\n",
    "            's':self.s,\n",
    "            'S':self.S,\n",
    "            'b':self.b,\n",
    "            'B':self.B,\n",
    "            'l':self.l,\n",
    "            'L':self.L,\n",
    "            'm':self.m,\n",
    "            'M':self.M,\n",
    "            'r':self.r,\n",
    "            'R':self.R,\n",
    "            'u':self.u,\n",
    "            'U':self.U,\n",
    "            'e':self.e,\n",
    "            'E':self.E,\n",
    "            'd':self.d,\n",
    "            'D':self.D,\n",
    "        }\n",
    "\n",
    "    @property\n",
    "    def n(self):\n",
    "        # null\n",
    "        return self\n",
    "\n",
    "    @property\n",
    "    def f(self):\n",
    "        # front clockwise\n",
    "        self.cube[-2] = np.flip(self.cube[-2].T,1)\n",
    "        self.cube[-1] = np.flip(self.cube[-1].T,1)\n",
    "        return self\n",
    "\n",
    "    @property\n",
    "    def F(self):\n",
    "        # front counter-clockwise\n",
    "        self.cube[-2] = np.flip(self.cube[-2].T,0)\n",
    "        self.cube[-1] = np.flip(self.cube[-1].T,0)\n",
    "        return self\n",
    "\n",
    "    @property\n",
    "    def s(self):\n",
    "        # mid x-y clockwise\n",
    "        self.cube[2] = np.flip(self.cube[2].T,0)\n",
    "        return self\n",
    "\n",
    "    @property\n",
    "    def S(self):\n",
    "        # mid x-y counter-clockwise\n",
    "        self.cube[2] = np.flip(self.cube[2].T,1)\n",
    "        return self\n",
    "\n",
    "    @property\n",
    "    def b(self):\n",
    "        # back clockwise\n",
    "        self.cube[1] = np.flip(self.cube[1].T,0)\n",
    "        self.cube[0] = np.flip(self.cube[0].T,0)\n",
    "        return self\n",
    "\n",
    "    @property\n",
    "    def B(self):\n",
    "        # back counter-clockwise\n",
    "        self.cube[1] = np.flip(self.cube[1].T,1)\n",
    "        self.cube[0] = np.flip(self.cube[0].T,1)\n",
    "        return self\n",
    "\n",
    "    @property\n",
    "    def l(self):\n",
    "        # left clockwise\n",
    "        self.cube[:,:,:2] = np.rot90(self.cube[:,:,:2],axes=(0,1))\n",
    "        return self\n",
    "\n",
    "    @property\n",
    "    def L(self):\n",
    "        # left counter-clockwise\n",
    "        self.cube[:,:,:2] = np.rot90(self.cube[:,:,:2],axes=(1,0))\n",
    "        return self\n",
    "\n",
    "    @property\n",
    "    def m(self):\n",
    "        # mix y-z clockwise\n",
    "        self.cube[:,:,2] = np.rot90(self.cube[:,:,2],axes=(0,1))\n",
    "        return self\n",
    "\n",
    "    @property\n",
    "    def M(self):\n",
    "        # mix y-z counter-clockwise\n",
    "        self.cube[:,:,2] = np.rot90(self.cube[:,:,2],axes=(1,0))\n",
    "        return self\n",
    "\n",
    "    @property\n",
    "    def r(self):\n",
    "        # right clockwise\n",
    "        self.cube[:,:,3:] = np.rot90(self.cube[:,:,3:],axes=(0,1))\n",
    "        return self\n",
    "\n",
    "    @property\n",
    "    def R(self):\n",
    "        # right counter-clockwise\n",
    "        self.cube[:,:,3:] = np.rot90(self.cube[:,:,3:],axes=(1,0))\n",
    "        return self\n",
    "\n",
    "    @property\n",
    "    def u(self):\n",
    "        # up clockwise\n",
    "        self.cube[:,1] = np.flip(self.cube[:,1].T,-1)\n",
    "        self.cube[:,0] = np.flip(self.cube[:,0].T,-1)\n",
    "        return self\n",
    "\n",
    "    @property\n",
    "    def U(self):\n",
    "        # up counter-clockwise\n",
    "        self.cube[:,1] = np.flip(self.cube[:,1].T,0)\n",
    "        self.cube[:,0] = np.flip(self.cube[:,0].T,0)\n",
    "        return self\n",
    "\n",
    "    @property\n",
    "    def e(self):\n",
    "        # mid x-z clockwise\n",
    "        self.cube[:,2] = np.flip(self.cube[:,2].T,-1)\n",
    "        return self\n",
    "\n",
    "    @property\n",
    "    def E(self):\n",
    "        # mid x-z counter-clockwise\n",
    "        self.cube[:,2] = np.flip(self.cube[:,2].T,0)\n",
    "        return self\n",
    "\n",
    "    @property\n",
    "    def d(self):\n",
    "        # down clockwise\n",
    "        self.cube[:,-2] = np.flip(self.cube[:,-2].T,0)\n",
    "        self.cube[:,-1] = np.flip(self.cube[:,-1].T,0)\n",
    "        return self\n",
    "\n",
    "    @property\n",
    "    def D(self):\n",
    "        # down counter-clockwise\n",
    "        self.cube[:,-2] = np.flip(self.cube[:,-2].T,-1)\n",
    "        self.cube[:,-1] = np.flip(self.cube[:,-1].T,-1)\n",
    "        return self\n",
    "\n",
    "emb_size = 6\n",
    "C = Cube()\n",
    "corners = dict()\n",
    "cornerRoots = [C.cube[0+c*3:2+c*3,0+b*3:2+b*3,0+a*3:2+a*3] for a in range(2) for b in range(2) for c in range(2)]\n",
    "\n",
    "for index,n in enumerate(cornerRoots):\n",
    "    corners[np.sum(n**2)] = (\n",
    "        index, # index\n",
    "        dict(((k,j) for j,k in enumerate(int(x) for x in n.reshape((8)) if x))), #\n",
    "    )\n",
    "\n",
    "cornerPositions = np.array([np.sum(C.cube[0+c*3:2+c*3,0+b*3:2+b*3,0+a*3:2+a*3]**2) for a in range(2) for b in range(2) for c in range(2)]).astype(int)\n",
    "cornersLabel = [corners[i] for i in cornerPositions]\n",
    "bagOfCubes = {0:[C,torch.randn((emb_size,))]}"
   ]
  },
  {
   "cell_type": "code",
   "execution_count": 392,
   "metadata": {},
   "outputs": [
    {
     "data": {
      "text/plain": [
       "[(0, {2: 0, 5: 1, 3: 2}),\n",
       " (1, {5: 0, 3: 1, 1: 2}),\n",
       " (2, {2: 0, 3: 1, 6: 2}),\n",
       " (3, {3: 0, 6: 1, 1: 2}),\n",
       " (4, {2: 0, 5: 1, 4: 2}),\n",
       " (5, {5: 0, 4: 1, 1: 2}),\n",
       " (6, {2: 0, 4: 1, 6: 2}),\n",
       " (7, {4: 0, 6: 1, 1: 2})]"
      ]
     },
     "execution_count": 392,
     "metadata": {},
     "output_type": "execute_result"
    }
   ],
   "source": [
    "cornerPositions = np.array([np.sum(C.cube[0+c*3:2+c*3,0+b*3:2+b*3,0+a*3:2+a*3]**2) for a in range(2) for b in range(2) for c in range(2)]).astype(int)\n",
    "cornersLabel = [corners[i] for i in cornerPositions]\n",
    "cornersLabel"
   ]
  },
  {
   "cell_type": "code",
   "execution_count": 393,
   "metadata": {},
   "outputs": [],
   "source": [
    "digit = {2:'0',3:'1',5:'2'}"
   ]
  },
  {
   "cell_type": "code",
   "execution_count": 394,
   "metadata": {},
   "outputs": [
    {
     "data": {
      "text/plain": [
       "[(0, {2: 0, 5: 1, 3: 2}),\n",
       " (1, {5: 0, 3: 1, 1: 2}),\n",
       " (4, {2: 0, 5: 1, 4: 2}),\n",
       " (3, {3: 0, 6: 1, 1: 2}),\n",
       " (2, {2: 0, 3: 1, 6: 2}),\n",
       " (5, {5: 0, 4: 1, 1: 2}),\n",
       " (7, {4: 0, 6: 1, 1: 2}),\n",
       " (6, {2: 0, 4: 1, 6: 2})]"
      ]
     },
     "execution_count": 394,
     "metadata": {},
     "output_type": "execute_result"
    }
   ],
   "source": [
    "C.R.D.r.d\n",
    "cornerPositions = np.array([np.sum(C.cube[0+c*3:2+c*3,0+b*3:2+b*3,0+a*3:2+a*3]**2) for a in range(2) for b in range(2) for c in range(2)]).astype(int)\n",
    "cornersLabel = [corners[i] for i in cornerPositions]\n",
    "cornersLabel"
   ]
  },
  {
   "cell_type": "code",
   "execution_count": 395,
   "metadata": {},
   "outputs": [
    {
     "data": {
      "text/plain": [
       "{38.0: (0, {2: 0, 5: 1, 3: 2}),\n",
       " 35.0: (1, {5: 0, 3: 1, 1: 2}),\n",
       " 49.0: (2, {2: 0, 3: 1, 6: 2}),\n",
       " 46.0: (3, {3: 0, 6: 1, 1: 2}),\n",
       " 45.0: (4, {2: 0, 5: 1, 4: 2}),\n",
       " 42.0: (5, {5: 0, 4: 1, 1: 2}),\n",
       " 56.0: (6, {2: 0, 4: 1, 6: 2}),\n",
       " 53.0: (7, {4: 0, 6: 1, 1: 2})}"
      ]
     },
     "execution_count": 395,
     "metadata": {},
     "output_type": "execute_result"
    }
   ],
   "source": [
    "corners"
   ]
  },
  {
   "cell_type": "code",
   "execution_count": null,
   "metadata": {},
   "outputs": [],
   "source": []
  }
 ],
 "metadata": {
  "kernelspec": {
   "display_name": "Python 3.6.13 ('env_pytorch')",
   "language": "python",
   "name": "python3"
  },
  "language_info": {
   "codemirror_mode": {
    "name": "ipython",
    "version": 3
   },
   "file_extension": ".py",
   "mimetype": "text/x-python",
   "name": "python",
   "nbconvert_exporter": "python",
   "pygments_lexer": "ipython3",
   "version": "3.6.13"
  },
  "orig_nbformat": 4,
  "vscode": {
   "interpreter": {
    "hash": "48da447ffdd9d1b828901094ec4b98496fbdc90c277013ddb0d1f01875307105"
   }
  }
 },
 "nbformat": 4,
 "nbformat_minor": 2
}

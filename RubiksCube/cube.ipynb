{
 "cells": [
  {
   "cell_type": "markdown",
   "metadata": {},
   "source": [
    "Let's solve a rubik's cube."
   ]
  },
  {
   "cell_type": "code",
   "execution_count": 221,
   "metadata": {},
   "outputs": [],
   "source": [
    "import numpy as np\n",
    "\n",
    "class Cube:\n",
    "    def __init__(self):\n",
    "        self.cube = np.reshape(np.outer(np.outer(np.arange(1,6),np.arange(1,6)),np.arange(1,6)),(5,5,5))\n",
    "\n",
    "    @property\n",
    "    def f(self):\n",
    "        self.cube[-1] = np.flip(self.cube[-1].T,1)\n",
    "        return self"
   ]
  },
  {
   "cell_type": "code",
   "execution_count": 231,
   "metadata": {},
   "outputs": [
    {
     "data": {
      "text/plain": [
       "array([[125, 100,  75,  50,  25],\n",
       "       [100,  80,  60,  40,  20],\n",
       "       [ 75,  60,  45,  30,  15],\n",
       "       [ 50,  40,  30,  20,  10],\n",
       "       [ 25,  20,  15,  10,   5]])"
      ]
     },
     "execution_count": 231,
     "metadata": {},
     "output_type": "execute_result"
    }
   ],
   "source": [
    "c = Cube()\n",
    "c.f.f.cube[-1]"
   ]
  },
  {
   "cell_type": "code",
   "execution_count": 182,
   "metadata": {},
   "outputs": [
    {
     "data": {
      "text/plain": [
       "array([[ 25,  20,  15,  10,   5],\n",
       "       [ 50,  40,  30,  20,  10],\n",
       "       [ 75,  60,  45,  30,  15],\n",
       "       [100,  80,  60,  40,  20],\n",
       "       [125, 100,  75,  50,  25]])"
      ]
     },
     "execution_count": 182,
     "metadata": {},
     "output_type": "execute_result"
    }
   ],
   "source": [
    "# front clockwise\n",
    "np.flip(h[-1].T,1)"
   ]
  },
  {
   "cell_type": "code",
   "execution_count": 183,
   "metadata": {},
   "outputs": [
    {
     "data": {
      "text/plain": [
       "array([[ 25,  50,  75, 100, 125],\n",
       "       [ 20,  40,  60,  80, 100],\n",
       "       [ 15,  30,  45,  60,  75],\n",
       "       [ 10,  20,  30,  40,  50],\n",
       "       [  5,  10,  15,  20,  25]])"
      ]
     },
     "execution_count": 183,
     "metadata": {},
     "output_type": "execute_result"
    }
   ],
   "source": [
    "# front counter clockwise\n",
    "np.flip(h[-1].T,0)"
   ]
  },
  {
   "cell_type": "code",
   "execution_count": 179,
   "metadata": {},
   "outputs": [
    {
     "data": {
      "text/plain": [
       "array([[[ 5,  4,  3,  2,  1]],\n",
       "\n",
       "       [[10,  8,  6,  4,  2]],\n",
       "\n",
       "       [[15, 12,  9,  6,  3]],\n",
       "\n",
       "       [[20, 16, 12,  8,  4]],\n",
       "\n",
       "       [[25, 20, 15, 10,  5]]])"
      ]
     },
     "execution_count": 179,
     "metadata": {},
     "output_type": "execute_result"
    }
   ],
   "source": [
    "# top clockwise\n",
    "np.flip(h[:,:1].T,-1)"
   ]
  },
  {
   "cell_type": "code",
   "execution_count": 180,
   "metadata": {},
   "outputs": [
    {
     "data": {
      "text/plain": [
       "array([[[ 5, 10, 15, 20, 25]],\n",
       "\n",
       "       [[ 4,  8, 12, 16, 20]],\n",
       "\n",
       "       [[ 3,  6,  9, 12, 15]],\n",
       "\n",
       "       [[ 2,  4,  6,  8, 10]],\n",
       "\n",
       "       [[ 1,  2,  3,  4,  5]]])"
      ]
     },
     "execution_count": 180,
     "metadata": {},
     "output_type": "execute_result"
    }
   ],
   "source": [
    "# top counter clockwise\n",
    "np.flip(h[:,:1].T,0)"
   ]
  },
  {
   "cell_type": "code",
   "execution_count": 197,
   "metadata": {},
   "outputs": [
    {
     "data": {
      "text/plain": [
       "array([[[ 5],\n",
       "        [10],\n",
       "        [15],\n",
       "        [20],\n",
       "        [25]],\n",
       "\n",
       "       [[ 4],\n",
       "        [ 8],\n",
       "        [12],\n",
       "        [16],\n",
       "        [20]],\n",
       "\n",
       "       [[ 3],\n",
       "        [ 6],\n",
       "        [ 9],\n",
       "        [12],\n",
       "        [15]],\n",
       "\n",
       "       [[ 2],\n",
       "        [ 4],\n",
       "        [ 6],\n",
       "        [ 8],\n",
       "        [10]],\n",
       "\n",
       "       [[ 1],\n",
       "        [ 2],\n",
       "        [ 3],\n",
       "        [ 4],\n",
       "        [ 5]]])"
      ]
     },
     "execution_count": 197,
     "metadata": {},
     "output_type": "execute_result"
    }
   ],
   "source": [
    "# side clockwise\n",
    "np.rot90(h[:,:,:1],axes=(0,1))"
   ]
  },
  {
   "cell_type": "code",
   "execution_count": 198,
   "metadata": {},
   "outputs": [
    {
     "data": {
      "text/plain": [
       "array([[[ 5],\n",
       "        [ 4],\n",
       "        [ 3],\n",
       "        [ 2],\n",
       "        [ 1]],\n",
       "\n",
       "       [[10],\n",
       "        [ 8],\n",
       "        [ 6],\n",
       "        [ 4],\n",
       "        [ 2]],\n",
       "\n",
       "       [[15],\n",
       "        [12],\n",
       "        [ 9],\n",
       "        [ 6],\n",
       "        [ 3]],\n",
       "\n",
       "       [[20],\n",
       "        [16],\n",
       "        [12],\n",
       "        [ 8],\n",
       "        [ 4]],\n",
       "\n",
       "       [[25],\n",
       "        [20],\n",
       "        [15],\n",
       "        [10],\n",
       "        [ 5]]])"
      ]
     },
     "execution_count": 198,
     "metadata": {},
     "output_type": "execute_result"
    }
   ],
   "source": [
    "# side counter clockwise\n",
    "np.rot90(h[:,:,:1],axes=(1,0))"
   ]
  },
  {
   "cell_type": "code",
   "execution_count": 201,
   "metadata": {},
   "outputs": [
    {
     "data": {
      "text/plain": [
       "array([[[ 2],\n",
       "        [ 4],\n",
       "        [ 6],\n",
       "        [ 8],\n",
       "        [10]],\n",
       "\n",
       "       [[ 4],\n",
       "        [ 8],\n",
       "        [12],\n",
       "        [16],\n",
       "        [20]],\n",
       "\n",
       "       [[ 6],\n",
       "        [12],\n",
       "        [18],\n",
       "        [24],\n",
       "        [30]],\n",
       "\n",
       "       [[ 8],\n",
       "        [16],\n",
       "        [24],\n",
       "        [32],\n",
       "        [40]],\n",
       "\n",
       "       [[10],\n",
       "        [20],\n",
       "        [30],\n",
       "        [40],\n",
       "        [50]]])"
      ]
     },
     "execution_count": 201,
     "metadata": {},
     "output_type": "execute_result"
    }
   ],
   "source": [
    "h[:,:,1:2] # l\n",
    "h[:,:,2:3] # m\n",
    "h[:,:,3:4] # r\n",
    "h[:,1:2]   # u\n",
    "h[:,2:3]   # e\n",
    "h[:,3:4]   # d\n",
    "h[1]       # b\n",
    "h[2]       # s\n",
    "h[3]       # f"
   ]
  }
 ],
 "metadata": {
  "kernelspec": {
   "display_name": "Python 3.7.9 64-bit",
   "language": "python",
   "name": "python3"
  },
  "language_info": {
   "codemirror_mode": {
    "name": "ipython",
    "version": 3
   },
   "file_extension": ".py",
   "mimetype": "text/x-python",
   "name": "python",
   "nbconvert_exporter": "python",
   "pygments_lexer": "ipython3",
   "version": "3.7.9"
  },
  "orig_nbformat": 4,
  "vscode": {
   "interpreter": {
    "hash": "aee8b7b246df8f9039afb4144a1f6fd8d2ca17a180786b69acc140d282b71a49"
   }
  }
 },
 "nbformat": 4,
 "nbformat_minor": 2
}

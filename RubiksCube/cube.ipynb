{
 "cells": [
  {
   "cell_type": "markdown",
   "metadata": {},
   "source": [
    "Let's solve a rubik's cube."
   ]
  },
  {
   "cell_type": "code",
   "execution_count": 3,
   "metadata": {},
   "outputs": [],
   "source": [
    "import numpy as np\n",
    "import torch\n",
    "import matplotlib.pyplot as plt\n",
    "\n",
    "class Cube:\n",
    "    def __init__(self):\n",
    "        self.cube = np.reshape(np.outer(np.outer(np.arange(1,6),np.arange(1,6)),np.arange(1,6)),(5,5,5))\n",
    "\n",
    "    @property\n",
    "    def f(self):\n",
    "        self.cube[-1] = np.flip(self.cube[-1].T,1)\n",
    "        return self"
   ]
  },
  {
   "cell_type": "code",
   "execution_count": 2,
   "metadata": {},
   "outputs": [
    {
     "data": {
      "text/plain": [
       "array([[125, 100,  75,  50,  25],\n",
       "       [100,  80,  60,  40,  20],\n",
       "       [ 75,  60,  45,  30,  15],\n",
       "       [ 50,  40,  30,  20,  10],\n",
       "       [ 25,  20,  15,  10,   5]])"
      ]
     },
     "execution_count": 2,
     "metadata": {},
     "output_type": "execute_result"
    }
   ],
   "source": [
    "c = Cube()\n",
    "c.f.f.cube[-1]"
   ]
  },
  {
   "cell_type": "code",
   "execution_count": 182,
   "metadata": {},
   "outputs": [
    {
     "data": {
      "text/plain": [
       "array([[ 25,  20,  15,  10,   5],\n",
       "       [ 50,  40,  30,  20,  10],\n",
       "       [ 75,  60,  45,  30,  15],\n",
       "       [100,  80,  60,  40,  20],\n",
       "       [125, 100,  75,  50,  25]])"
      ]
     },
     "execution_count": 182,
     "metadata": {},
     "output_type": "execute_result"
    }
   ],
   "source": [
    "# front clockwise\n",
    "np.flip(h[-1].T,1)"
   ]
  },
  {
   "cell_type": "code",
   "execution_count": 183,
   "metadata": {},
   "outputs": [
    {
     "data": {
      "text/plain": [
       "array([[ 25,  50,  75, 100, 125],\n",
       "       [ 20,  40,  60,  80, 100],\n",
       "       [ 15,  30,  45,  60,  75],\n",
       "       [ 10,  20,  30,  40,  50],\n",
       "       [  5,  10,  15,  20,  25]])"
      ]
     },
     "execution_count": 183,
     "metadata": {},
     "output_type": "execute_result"
    }
   ],
   "source": [
    "# front counter clockwise\n",
    "np.flip(h[-1].T,0)"
   ]
  },
  {
   "cell_type": "code",
   "execution_count": 179,
   "metadata": {},
   "outputs": [
    {
     "data": {
      "text/plain": [
       "array([[[ 5,  4,  3,  2,  1]],\n",
       "\n",
       "       [[10,  8,  6,  4,  2]],\n",
       "\n",
       "       [[15, 12,  9,  6,  3]],\n",
       "\n",
       "       [[20, 16, 12,  8,  4]],\n",
       "\n",
       "       [[25, 20, 15, 10,  5]]])"
      ]
     },
     "execution_count": 179,
     "metadata": {},
     "output_type": "execute_result"
    }
   ],
   "source": [
    "# top clockwise\n",
    "np.flip(h[:,:1].T,-1)"
   ]
  },
  {
   "cell_type": "code",
   "execution_count": 180,
   "metadata": {},
   "outputs": [
    {
     "data": {
      "text/plain": [
       "array([[[ 5, 10, 15, 20, 25]],\n",
       "\n",
       "       [[ 4,  8, 12, 16, 20]],\n",
       "\n",
       "       [[ 3,  6,  9, 12, 15]],\n",
       "\n",
       "       [[ 2,  4,  6,  8, 10]],\n",
       "\n",
       "       [[ 1,  2,  3,  4,  5]]])"
      ]
     },
     "execution_count": 180,
     "metadata": {},
     "output_type": "execute_result"
    }
   ],
   "source": [
    "# top counter clockwise\n",
    "np.flip(h[:,:1].T,0)"
   ]
  },
  {
   "cell_type": "code",
   "execution_count": 197,
   "metadata": {},
   "outputs": [
    {
     "data": {
      "text/plain": [
       "array([[[ 5],\n",
       "        [10],\n",
       "        [15],\n",
       "        [20],\n",
       "        [25]],\n",
       "\n",
       "       [[ 4],\n",
       "        [ 8],\n",
       "        [12],\n",
       "        [16],\n",
       "        [20]],\n",
       "\n",
       "       [[ 3],\n",
       "        [ 6],\n",
       "        [ 9],\n",
       "        [12],\n",
       "        [15]],\n",
       "\n",
       "       [[ 2],\n",
       "        [ 4],\n",
       "        [ 6],\n",
       "        [ 8],\n",
       "        [10]],\n",
       "\n",
       "       [[ 1],\n",
       "        [ 2],\n",
       "        [ 3],\n",
       "        [ 4],\n",
       "        [ 5]]])"
      ]
     },
     "execution_count": 197,
     "metadata": {},
     "output_type": "execute_result"
    }
   ],
   "source": [
    "# side clockwise\n",
    "np.rot90(h[:,:,:1],axes=(0,1))"
   ]
  },
  {
   "cell_type": "code",
   "execution_count": 198,
   "metadata": {},
   "outputs": [
    {
     "data": {
      "text/plain": [
       "array([[[ 5],\n",
       "        [ 4],\n",
       "        [ 3],\n",
       "        [ 2],\n",
       "        [ 1]],\n",
       "\n",
       "       [[10],\n",
       "        [ 8],\n",
       "        [ 6],\n",
       "        [ 4],\n",
       "        [ 2]],\n",
       "\n",
       "       [[15],\n",
       "        [12],\n",
       "        [ 9],\n",
       "        [ 6],\n",
       "        [ 3]],\n",
       "\n",
       "       [[20],\n",
       "        [16],\n",
       "        [12],\n",
       "        [ 8],\n",
       "        [ 4]],\n",
       "\n",
       "       [[25],\n",
       "        [20],\n",
       "        [15],\n",
       "        [10],\n",
       "        [ 5]]])"
      ]
     },
     "execution_count": 198,
     "metadata": {},
     "output_type": "execute_result"
    }
   ],
   "source": [
    "# side counter clockwise\n",
    "np.rot90(h[:,:,:1],axes=(1,0))"
   ]
  },
  {
   "cell_type": "code",
   "execution_count": 201,
   "metadata": {},
   "outputs": [
    {
     "data": {
      "text/plain": [
       "array([[[ 2],\n",
       "        [ 4],\n",
       "        [ 6],\n",
       "        [ 8],\n",
       "        [10]],\n",
       "\n",
       "       [[ 4],\n",
       "        [ 8],\n",
       "        [12],\n",
       "        [16],\n",
       "        [20]],\n",
       "\n",
       "       [[ 6],\n",
       "        [12],\n",
       "        [18],\n",
       "        [24],\n",
       "        [30]],\n",
       "\n",
       "       [[ 8],\n",
       "        [16],\n",
       "        [24],\n",
       "        [32],\n",
       "        [40]],\n",
       "\n",
       "       [[10],\n",
       "        [20],\n",
       "        [30],\n",
       "        [40],\n",
       "        [50]]])"
      ]
     },
     "execution_count": 201,
     "metadata": {},
     "output_type": "execute_result"
    }
   ],
   "source": [
    "h[:,:,1:2] # l\n",
    "h[:,:,2:3] # m\n",
    "h[:,:,3:4] # r\n",
    "h[:,1:2]   # u\n",
    "h[:,2:3]   # e\n",
    "h[:,3:4]   # d\n",
    "h[1]       # b\n",
    "h[2]       # s\n",
    "h[3]       # f"
   ]
  },
  {
   "cell_type": "code",
   "execution_count": 53,
   "metadata": {},
   "outputs": [
    {
     "data": {
      "text/plain": [
       "[<matplotlib.lines.Line2D at 0x7fd2e23b02b0>,\n",
       " <matplotlib.lines.Line2D at 0x7fd2e23b0320>]"
      ]
     },
     "execution_count": 53,
     "metadata": {},
     "output_type": "execute_result"
    },
    {
     "data": {
      "image/png": "[encoded data removed]",
      "text/plain": [
       "<Figure size 432x288 with 1 Axes>"
      ]
     },
     "metadata": {
      "needs_background": "light"
     },
     "output_type": "display_data"
    }
   ],
   "source": [
    "# n-armed bandit\n",
    "input_values = 1\n",
    "output_values = 7\n",
    "\n",
    "# random probability distributions for training data\n",
    "inputs = torch.eye(input_values)\n",
    "target_distribution = torch.tensor(np.random.random_sample((output_values,))).float()\n",
    "\n",
    "# single layer vanilla NN\n",
    "weights = torch.rand(len(inputs),len(target_distribution)).requires_grad_()\n",
    "optimizer = torch.optim.SGD([weights], lr=0.1)\n",
    "\n",
    "def sample_distribution(true_distribution):\n",
    "    return torch.ceil(true_distribution-np.random.random_sample((len(true_distribution),))).float()\n",
    "\n",
    "# fitting target distribution in 50 epochs based on random samples (n-armed bandit)\n",
    "for _ in range(50):\n",
    "    optimizer.zero_grad()\n",
    "    target = sample_distribution(target_distribution)\n",
    "    pred = torch.sigmoid(inputs @ weights)\n",
    "    loss = pred - target * torch.log(pred)\n",
    "    loss.backward(gradient=torch.ones(len(inputs),len(target_distribution)))\n",
    "    optimizer.step()\n",
    "\n",
    "# target = orange; prediction = blue\n",
    "results = np.array([pred[0].detach().numpy(),target_distribution.detach().numpy()]).T\n",
    "plt.plot(results)"
   ]
  },
  {
   "cell_type": "code",
   "execution_count": 52,
   "metadata": {},
   "outputs": [
    {
     "data": {
      "image/png": "[encoded data removed]",
      "text/plain": [
       "<Figure size 864x216 with 4 Axes>"
      ]
     },
     "metadata": {
      "needs_background": "light"
     },
     "output_type": "display_data"
    }
   ],
   "source": [
    "# contextual bandit\n",
    "input_values = 4\n",
    "output_values = 7\n",
    "\n",
    "# random probability distributions for training data\n",
    "inputs = torch.eye(input_values)\n",
    "target_distributions = torch.rand(input_values,output_values)\n",
    "\n",
    "# single layer vanilla NN\n",
    "weights = torch.rand(input_values,output_values).requires_grad_()\n",
    "optimizer = torch.optim.SGD([weights], lr=0.2)\n",
    "\n",
    "def sample_distribution(true_distribution):\n",
    "    return torch.ceil(true_distribution-torch.rand(len(true_distribution),len(true_distribution[0]))).float()\n",
    "\n",
    "for _ in range(50):\n",
    "    optimizer.zero_grad()\n",
    "\n",
    "    # get samples/targets\n",
    "    targets = sample_distribution(target_distributions)\n",
    "\n",
    "    # feed forward\n",
    "    pred = torch.sigmoid(inputs @ weights)\n",
    "\n",
    "    # backprop\n",
    "    loss = pred - targets * torch.log(pred)\n",
    "    loss.backward(gradient=torch.ones(input_values,output_values))\n",
    "    optimizer.step()\n",
    "\n",
    "fig, axs = plt.subplots(1,input_values, figsize=(3*input_values, 3))\n",
    "for index,item in enumerate(axs):\n",
    "    item.plot(np.array([pred[index].detach().numpy(),target_distributions[index].numpy()]).T)"
   ]
  }
 ],
 "metadata": {
  "kernelspec": {
   "display_name": "Python 3.6.13 ('env_pytorch')",
   "language": "python",
   "name": "python3"
  },
  "language_info": {
   "codemirror_mode": {
    "name": "ipython",
    "version": 3
   },
   "file_extension": ".py",
   "mimetype": "text/x-python",
   "name": "python",
   "nbconvert_exporter": "python",
   "pygments_lexer": "ipython3",
   "version": "3.6.13"
  },
  "orig_nbformat": 4,
  "vscode": {
   "interpreter": {
    "hash": "48da447ffdd9d1b828901094ec4b98496fbdc90c277013ddb0d1f01875307105"
   }
  }
 },
 "nbformat": 4,
 "nbformat_minor": 2
}
